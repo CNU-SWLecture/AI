{
 "cells": [
  {
   "cell_type": "markdown",
   "metadata": {},
   "source": [
    "회귀(regression) & 분류(classification)에서 고민해야 할 사항\n",
    "1. 특징은 뭘 사용할 것인가?\n",
    "2. 모델은 뭘 사용할 것인가? (-> 모델 식의 계수는 뭐로 할 것인가?)"
   ]
  }
 ],
 "metadata": {
  "language_info": {
   "name": "python"
  }
 },
 "nbformat": 4,
 "nbformat_minor": 2
}
