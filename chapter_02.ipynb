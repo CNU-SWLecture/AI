{
  "cells": [
    {
      "cell_type": "code",
      "execution_count": 1,
      "metadata": {
        "colab": {
          "base_uri": "https://localhost:8080/"
        },
        "id": "Oq5euo0g90D_",
        "outputId": "d7cfdcb9-f067-4b2f-a016-5a6a558b46e3"
      },
      "outputs": [
        {
          "name": "stdout",
          "output_type": "stream",
          "text": [
            "첫번째 프로그램입니다.\n"
          ]
        }
      ],
      "source": [
        "print('첫번째 프로그램입니다.')"
      ]
    },
    {
      "cell_type": "code",
      "execution_count": 2,
      "metadata": {
        "colab": {
          "base_uri": "https://localhost:8080/"
        },
        "id": "5bVo_nqM-ibG",
        "outputId": "86e97648-a298-45d2-ed32-c5d15b79ef2d"
      },
      "outputs": [
        {
          "name": "stdout",
          "output_type": "stream",
          "text": [
            "두번째 프로그램입니다.\n",
            "첨언입니다.\n"
          ]
        }
      ],
      "source": [
        "print('두번째 프로그램입니다.')\n",
        "print('첨언입니다.')"
      ]
    },
    {
      "cell_type": "code",
      "execution_count": 3,
      "metadata": {
        "id": "4vCWt8YV-zkd",
        "vscode": {
          "languageId": "c"
        }
      },
      "outputs": [
        {
          "ename": "SyntaxError",
          "evalue": "invalid syntax (1527968950.py, line 3)",
          "output_type": "error",
          "traceback": [
            "\u001b[0;36m  Cell \u001b[0;32mIn[3], line 3\u001b[0;36m\u001b[0m\n\u001b[0;31m    int main(void){\u001b[0m\n\u001b[0m        ^\u001b[0m\n\u001b[0;31mSyntaxError\u001b[0m\u001b[0;31m:\u001b[0m invalid syntax\n"
          ]
        }
      ],
      "source": [
        "#include \"stdio.h\"\n",
        "\n",
        "int main(void){\n",
        "    int a = 28;\n",
        "    printf(\"%d 명이 인공지능 강의를 수강하고 있습니다.\", a);\n",
        "    return 0;\n",
        "}"
      ]
    },
    {
      "cell_type": "code",
      "execution_count": 4,
      "metadata": {
        "colab": {
          "base_uri": "https://localhost:8080/"
        },
        "id": "bII4Y7v5_LB8",
        "outputId": "eb9129de-b6a6-4b47-ebcb-c167961471be"
      },
      "outputs": [
        {
          "name": "stdout",
          "output_type": "stream",
          "text": [
            "28 명이 인공지능 강의를 수강하고 있습니다.\n",
            "<class 'int'>\n",
            "28 명이 인공지능 강의를 수강하고 있습니다.\n",
            "28 명이  인공지능 강의를 수강하고 있습니다.\n",
            "<class 'str'>\n"
          ]
        }
      ],
      "source": [
        "a = 28\n",
        "print(\"%d 명이 인공지능 강의를 수강하고 있습니다.\"% a)\n",
        "print(type(a))\n",
        "print(a, \"명이 인공지능 강의를 수강하고 있습니다.\")\n",
        "b = '인공지능'\n",
        "print(a, \"명이 \", b, \"강의를 수강하고 있습니다.\")\n",
        "print(type(b))"
      ]
    },
    {
      "cell_type": "code",
      "execution_count": 5,
      "metadata": {
        "colab": {
          "base_uri": "https://localhost:8080/"
        },
        "id": "HZNtdTU7AMEE",
        "outputId": "eeda63ab-2c88-4921-f37f-8dc3c19eba79"
      },
      "outputs": [
        {
          "name": "stdout",
          "output_type": "stream",
          "text": [
            "인공지능\n"
          ]
        }
      ],
      "source": [
        "print(b)"
      ]
    },
    {
      "cell_type": "code",
      "execution_count": 7,
      "metadata": {
        "colab": {
          "base_uri": "https://localhost:8080/"
        },
        "id": "908ePGIwB1a-",
        "outputId": "0e152d24-d4b3-449c-93aa-419cbe8f953b"
      },
      "outputs": [
        {
          "name": "stdout",
          "output_type": "stream",
          "text": [
            "ans: 33\n"
          ]
        }
      ],
      "source": [
        "var1 = int(input(\"val1:\"))\n",
        "var2 = int(input(\"val2:\"))\n",
        "ans = var1 + var2\n",
        "print(\"ans:\", ans)"
      ]
    },
    {
      "cell_type": "code",
      "execution_count": null,
      "metadata": {
        "id": "PsEPGBgLDrXG",
        "vscode": {
          "languageId": "c"
        }
      },
      "outputs": [],
      "source": [
        "int a = 10;\n",
        "if(a < 50) {\n",
        "    printf('작다.');\n",
        "}\n",
        "else {\n",
        "    printf('크다.');\n",
        "}"
      ]
    },
    {
      "cell_type": "code",
      "execution_count": 8,
      "metadata": {
        "colab": {
          "base_uri": "https://localhost:8080/"
        },
        "id": "B3i-x8VWD3Hl",
        "outputId": "d1acd14c-9613-4bc6-8aa0-bb26101eb616"
      },
      "outputs": [
        {
          "name": "stdout",
          "output_type": "stream",
          "text": [
            "크다.\n",
            "a: 105\n"
          ]
        }
      ],
      "source": [
        "a = 105\n",
        "if a < 50:\n",
        "    print('작다.')\n",
        "elif a < 100:\n",
        "    print('중간')\n",
        "else:\n",
        "    print('크다.')\n",
        "print('a:', a)"
      ]
    },
    {
      "cell_type": "code",
      "execution_count": null,
      "metadata": {
        "vscode": {
          "languageId": "c"
        }
      },
      "outputs": [],
      "source": [
        "int i = 0;\n",
        "for(i=0;i < 10; i++){\n",
        "    printf(\"%d\", i);\n",
        "}"
      ]
    },
    {
      "cell_type": "code",
      "execution_count": 9,
      "metadata": {},
      "outputs": [
        {
          "name": "stdout",
          "output_type": "stream",
          "text": [
            "0\n",
            "1\n",
            "2\n",
            "3\n",
            "4\n",
            "5\n",
            "6\n",
            "7\n",
            "8\n",
            "9\n"
          ]
        }
      ],
      "source": [
        "for i in [0, 1, 2, 3, 4, 5, 6, 7, 8, 9]:\n",
        "    print(i)"
      ]
    },
    {
      "cell_type": "code",
      "execution_count": null,
      "metadata": {},
      "outputs": [],
      "source": [
        "for i in range(0, 10, 1):\n",
        "    if i == 5:\n",
        "        break\n",
        "    print(i)\n",
        "print('done')"
      ]
    },
    {
      "cell_type": "code",
      "execution_count": null,
      "metadata": {},
      "outputs": [],
      "source": [
        "for i in range(0, 10, 1):\n",
        "    if i == 5:\n",
        "        continue\n",
        "    print(i)\n",
        "print('done')"
      ]
    },
    {
      "cell_type": "code",
      "execution_count": null,
      "metadata": {
        "vscode": {
          "languageId": "c"
        }
      },
      "outputs": [],
      "source": [
        "int add(int a, int b){\n",
        "    int ret = a + b;\n",
        "    return ret;\n",
        "}\n",
        "\n",
        "int main(void){\n",
        "    int num1 = 10;\n",
        "    int num2 = 20;\n",
        "    int ans;\n",
        "\n",
        "    // ans = num1 + num2;\n",
        "    ans = add(num1, num2 );\n",
        "    printf(\"%d\", ans);\n",
        "\n",
        "    num1 = 2;\n",
        "    num2 = 3;\n",
        "    ans = add(num1, num2);\n",
        "    printf(\"%d\", ans);\n",
        "    return 0;\n",
        "}"
      ]
    },
    {
      "cell_type": "code",
      "execution_count": 11,
      "metadata": {},
      "outputs": [
        {
          "name": "stdout",
          "output_type": "stream",
          "text": [
            "30\n",
            "5\n"
          ]
        }
      ],
      "source": [
        "def add (a, b):\n",
        "    ret = a + b\n",
        "    return ret\n",
        "\n",
        "num1 = 10\n",
        "num2 = 20\n",
        "ans = add(num1, num2)\n",
        "print(ans)\n",
        "\n",
        "num1 = 2\n",
        "num2 = 3\n",
        "ans = add(num1, num2)\n",
        "print(ans)"
      ]
    },
    {
      "cell_type": "code",
      "execution_count": null,
      "metadata": {},
      "outputs": [],
      "source": [
        "def solve()\n",
        "\n",
        "x = solve(3, 7, 1)"
      ]
    }
  ],
  "metadata": {
    "colab": {
      "provenance": []
    },
    "kernelspec": {
      "display_name": "Python 3",
      "name": "python3"
    },
    "language_info": {
      "codemirror_mode": {
        "name": "ipython",
        "version": 3
      },
      "file_extension": ".py",
      "mimetype": "text/x-python",
      "name": "python",
      "nbconvert_exporter": "python",
      "pygments_lexer": "ipython3",
      "version": "3.12.4"
    }
  },
  "nbformat": 4,
  "nbformat_minor": 0
}
