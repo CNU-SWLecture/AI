{
  "cells": [
    {
      "cell_type": "code",
      "execution_count": 1,
      "metadata": {
        "colab": {
          "base_uri": "https://localhost:8080/"
        },
        "id": "Oq5euo0g90D_",
        "outputId": "d7cfdcb9-f067-4b2f-a016-5a6a558b46e3"
      },
      "outputs": [
        {
          "name": "stdout",
          "output_type": "stream",
          "text": [
            "첫번째 프로그램입니다.\n"
          ]
        }
      ],
      "source": [
        "print('첫번째 프로그램입니다.')"
      ]
    },
    {
      "cell_type": "code",
      "execution_count": 2,
      "metadata": {
        "colab": {
          "base_uri": "https://localhost:8080/"
        },
        "id": "5bVo_nqM-ibG",
        "outputId": "86e97648-a298-45d2-ed32-c5d15b79ef2d"
      },
      "outputs": [
        {
          "name": "stdout",
          "output_type": "stream",
          "text": [
            "두번째 프로그램입니다.\n",
            "첨언입니다.\n"
          ]
        }
      ],
      "source": [
        "print('두번째 프로그램입니다.')\n",
        "print('첨언입니다.')"
      ]
    },
    {
      "cell_type": "code",
      "execution_count": 3,
      "metadata": {
        "id": "4vCWt8YV-zkd"
      },
      "outputs": [
        {
          "ename": "SyntaxError",
          "evalue": "invalid syntax (1527968950.py, line 3)",
          "output_type": "error",
          "traceback": [
            "\u001b[0;36m  Cell \u001b[0;32mIn[3], line 3\u001b[0;36m\u001b[0m\n\u001b[0;31m    int main(void){\u001b[0m\n\u001b[0m        ^\u001b[0m\n\u001b[0;31mSyntaxError\u001b[0m\u001b[0;31m:\u001b[0m invalid syntax\n"
          ]
        }
      ],
      "source": [
        "#include \"stdio.h\"\n",
        "\n",
        "int main(void){\n",
        "    int a = 28;\n",
        "    printf(\"%d 명이 인공지능 강의를 수강하고 있습니다.\", a);\n",
        "    return 0;\n",
        "}"
      ]
    },
    {
      "cell_type": "code",
      "execution_count": 4,
      "metadata": {
        "colab": {
          "base_uri": "https://localhost:8080/"
        },
        "id": "bII4Y7v5_LB8",
        "outputId": "eb9129de-b6a6-4b47-ebcb-c167961471be"
      },
      "outputs": [
        {
          "name": "stdout",
          "output_type": "stream",
          "text": [
            "28 명이 인공지능 강의를 수강하고 있습니다.\n",
            "<class 'int'>\n",
            "28 명이 인공지능 강의를 수강하고 있습니다.\n",
            "28 명이  인공지능 강의를 수강하고 있습니다.\n",
            "<class 'str'>\n"
          ]
        }
      ],
      "source": [
        "a = 28\n",
        "print(\"%d 명이 인공지능 강의를 수강하고 있습니다.\"% a)\n",
        "print(type(a))\n",
        "print(a, \"명이 인공지능 강의를 수강하고 있습니다.\")\n",
        "b = '인공지능'\n",
        "print(a, \"명이 \", b, \"강의를 수강하고 있습니다.\")\n",
        "print(type(b))"
      ]
    },
    {
      "cell_type": "code",
      "execution_count": 5,
      "metadata": {
        "colab": {
          "base_uri": "https://localhost:8080/"
        },
        "id": "HZNtdTU7AMEE",
        "outputId": "eeda63ab-2c88-4921-f37f-8dc3c19eba79"
      },
      "outputs": [
        {
          "name": "stdout",
          "output_type": "stream",
          "text": [
            "인공지능\n"
          ]
        }
      ],
      "source": [
        "print(b)"
      ]
    },
    {
      "cell_type": "code",
      "execution_count": 7,
      "metadata": {
        "colab": {
          "base_uri": "https://localhost:8080/"
        },
        "id": "908ePGIwB1a-",
        "outputId": "0e152d24-d4b3-449c-93aa-419cbe8f953b"
      },
      "outputs": [
        {
          "name": "stdout",
          "output_type": "stream",
          "text": [
            "ans: 33\n"
          ]
        }
      ],
      "source": [
        "var1 = int(input(\"val1:\"))\n",
        "var2 = int(input(\"val2:\"))\n",
        "ans = var1 + var2\n",
        "print(\"ans:\", ans)"
      ]
    },
    {
      "cell_type": "code",
      "execution_count": null,
      "metadata": {
        "id": "PsEPGBgLDrXG"
      },
      "outputs": [],
      "source": [
        "int a = 10;\n",
        "if(a < 50) {\n",
        "    printf('작다.');\n",
        "}\n",
        "else {\n",
        "    printf('크다.');\n",
        "}"
      ]
    },
    {
      "cell_type": "code",
      "execution_count": 8,
      "metadata": {
        "colab": {
          "base_uri": "https://localhost:8080/"
        },
        "id": "B3i-x8VWD3Hl",
        "outputId": "d1acd14c-9613-4bc6-8aa0-bb26101eb616"
      },
      "outputs": [
        {
          "name": "stdout",
          "output_type": "stream",
          "text": [
            "크다.\n",
            "a: 105\n"
          ]
        }
      ],
      "source": [
        "a = 105\n",
        "if a < 50:\n",
        "    print('작다.')\n",
        "elif a < 100:\n",
        "    print('중간')\n",
        "else:\n",
        "    print('크다.')\n",
        "print('a:', a)"
      ]
    },
    {
      "cell_type": "code",
      "execution_count": null,
      "metadata": {},
      "outputs": [],
      "source": [
        "int i = 0;\n",
        "for(i=0;i < 10; i++){\n",
        "    printf(\"%d\", i);\n",
        "}"
      ]
    },
    {
      "cell_type": "code",
      "execution_count": 9,
      "metadata": {},
      "outputs": [
        {
          "name": "stdout",
          "output_type": "stream",
          "text": [
            "0\n",
            "1\n",
            "2\n",
            "3\n",
            "4\n",
            "5\n",
            "6\n",
            "7\n",
            "8\n",
            "9\n"
          ]
        }
      ],
      "source": [
        "for i in [0, 1, 2, 3, 4, 5, 6, 7, 8, 9]:\n",
        "    print(i)"
      ]
    },
    {
      "cell_type": "code",
      "execution_count": null,
      "metadata": {},
      "outputs": [],
      "source": [
        "for i in range(0, 10, 1):\n",
        "    if i == 5:\n",
        "        break\n",
        "    print(i)\n",
        "print('done')"
      ]
    },
    {
      "cell_type": "code",
      "execution_count": null,
      "metadata": {},
      "outputs": [],
      "source": [
        "for i in range(0, 10, 1):\n",
        "    if i == 5:\n",
        "        continue\n",
        "    print(i)\n",
        "print('done')"
      ]
    },
    {
      "cell_type": "code",
      "execution_count": null,
      "metadata": {},
      "outputs": [],
      "source": [
        "int add(int a, int b){\n",
        "    int ret = a + b;\n",
        "    return ret;\n",
        "}\n",
        "\n",
        "int main(void){\n",
        "    int num1 = 10;\n",
        "    int num2 = 20;\n",
        "    int ans;\n",
        "\n",
        "    # ans = num1 + num2;\n",
        "    ans = add(num1, num2 );\n",
        "    printf(\"%d\", ans);\n",
        "\n",
        "    num1 = 2;\n",
        "    num2 = 3;\n",
        "    ans = add(num1, num2);\n",
        "    printf(\"%d\", ans);\n",
        "    return 0;\n",
        "}"
      ]
    },
    {
      "cell_type": "code",
      "execution_count": 11,
      "metadata": {},
      "outputs": [
        {
          "name": "stdout",
          "output_type": "stream",
          "text": [
            "30\n",
            "5\n"
          ]
        }
      ],
      "source": [
        "def add (a, b):\n",
        "    ret = a + b\n",
        "    return ret\n",
        "\n",
        "num1 = 10\n",
        "num2 = 20\n",
        "ans = add(num1, num2)\n",
        "print(ans)\n",
        "\n",
        "num1 = 2\n",
        "num2 = 3\n",
        "ans = add(num1, num2)\n",
        "print(ans)"
      ]
    },
    {
      "cell_type": "code",
      "execution_count": 3,
      "metadata": {},
      "outputs": [
        {
          "name": "stdout",
          "output_type": "stream",
          "text": [
            "-0.15287291161696345 ,  -2.18046042171637\n"
          ]
        }
      ],
      "source": [
        "import math\n",
        "def solve(a, b, c):\n",
        "    pos = (-b + math.sqrt(b*b - 4*a*c))/(2*a)\n",
        "    neg = (-b - math.sqrt(b*b - 4*a*c))/(2*a)\n",
        "    return pos, neg\n",
        "\n",
        "x1, x2 = solve(3, 7, 1)\n",
        "print(x1, \", \", x2)"
      ]
    },
    {
      "cell_type": "code",
      "execution_count": 2,
      "metadata": {},
      "outputs": [
        {
          "name": "stdout",
          "output_type": "stream",
          "text": [
            "0\n",
            "90\n",
            "[0, 10, 20, 30, 40, 50, 60, 70, 80, 90]\n"
          ]
        }
      ],
      "source": [
        "aa = [0, 10, 20, 30, 40, 50, 60, 70, 80, 90]\n",
        "print(aa[0])\n",
        "print(aa[9])\n",
        "print(aa)"
      ]
    },
    {
      "cell_type": "code",
      "execution_count": 4,
      "metadata": {},
      "outputs": [
        {
          "name": "stdout",
          "output_type": "stream",
          "text": [
            "[0, 10, 20, 30, 40, 50, 60, 70, 80, 90, 100]\n",
            "[-10, 10, 20, 30, 40, 50, 60, 70, 80, 90, 100]\n"
          ]
        }
      ],
      "source": [
        "aa.append(100)\n",
        "print(aa)\n",
        "aa[0] = -10\n",
        "print(aa)"
      ]
    },
    {
      "cell_type": "code",
      "execution_count": 2,
      "metadata": {},
      "outputs": [
        {
          "name": "stdout",
          "output_type": "stream",
          "text": [
            "[1, -1.5, True, 'IMC']\n"
          ]
        }
      ],
      "source": [
        "bb = [1, -1.5, True, 'IMC']\n",
        "print(bb)"
      ]
    },
    {
      "cell_type": "code",
      "execution_count": 3,
      "metadata": {},
      "outputs": [
        {
          "name": "stdout",
          "output_type": "stream",
          "text": [
            "[[1, 2, 3, 4], [5, 6, 7, 8], [9, 10, 11, 12]]\n"
          ]
        }
      ],
      "source": [
        "aa = [[1, 2, 3, 4], [5, 6, 7, 8], [9, 10, 11, 12]]\n",
        "print(aa)"
      ]
    },
    {
      "cell_type": "code",
      "execution_count": 4,
      "metadata": {},
      "outputs": [
        {
          "name": "stdout",
          "output_type": "stream",
          "text": [
            "{'apple': '사과', 'desk': '책상', 'chair': '의자'}\n"
          ]
        }
      ],
      "source": [
        "dic1 = {\n",
        "    'apple':'사과',\n",
        "    'desk':'책상',\n",
        "    'chair':'의자'\n",
        "}\n",
        "print(dic1)"
      ]
    },
    {
      "cell_type": "code",
      "execution_count": 5,
      "metadata": {},
      "outputs": [
        {
          "name": "stdout",
          "output_type": "stream",
          "text": [
            "사과\n"
          ]
        }
      ],
      "source": [
        "print(dic1['apple'])"
      ]
    },
    {
      "cell_type": "code",
      "execution_count": 6,
      "metadata": {},
      "outputs": [
        {
          "name": "stdout",
          "output_type": "stream",
          "text": [
            "{'apple': '사과', 'desk': '책상', 'chair': '의자', 'computer': '컴퓨터'}\n"
          ]
        }
      ],
      "source": [
        "dic1['computer']= '컴퓨터'\n",
        "print(dic1)"
      ]
    },
    {
      "cell_type": "code",
      "execution_count": 7,
      "metadata": {},
      "outputs": [
        {
          "name": "stdout",
          "output_type": "stream",
          "text": [
            "{'apple': '사과', 'desk': '책상', 'chair': '의자', 'computer': '컴퓨터', 1: '하나'}\n"
          ]
        }
      ],
      "source": [
        "dic1[1] = '하나'\n",
        "print(dic1)"
      ]
    },
    {
      "cell_type": "code",
      "execution_count": 63,
      "metadata": {},
      "outputs": [],
      "source": [
        "class Student:\n",
        "    def __init__(self, name, age, aff, gender):\n",
        "        self.name = name\n",
        "        self.age = age\n",
        "        self.aff = aff\n",
        "        self.gender = gender\n",
        "\n",
        "    def add_age(self, num):\n",
        "        self.age = self.age + num\n",
        "\n",
        "    def print_info(self):\n",
        "        print('이름: ', self.name, ', 나이: ', self.age, ', 학과: ', self.aff, ', 성별: ', self.gender)\n",
        "\n",
        "    def __str__(self):\n",
        "        info = '이름: ' + self.name + ', 나이: ' + str(self.age) +  ', 학과: ' + self.aff + ', 성별: ' + self.gender\n",
        "        return info\n"
      ]
    },
    {
      "cell_type": "code",
      "execution_count": 64,
      "metadata": {},
      "outputs": [
        {
          "name": "stdout",
          "output_type": "stream",
          "text": [
            "a\n",
            "20\n",
            "IMC\n",
            "22\n",
            "b\n",
            "21\n",
            "AI\n"
          ]
        }
      ],
      "source": [
        "s1 = Student('a', 20, 'IMC', 'F')\n",
        "print(s1.name)\n",
        "print(s1.age)\n",
        "print(s1.aff)\n",
        "s1.add_age(2)\n",
        "print(s1.age)\n",
        "\n",
        "\n",
        "s2 = Student('b', 21, 'AI', 'M')\n",
        "print(s2.name)\n",
        "print(s2.age)\n",
        "print(s2.aff)"
      ]
    },
    {
      "cell_type": "code",
      "execution_count": 66,
      "metadata": {},
      "outputs": [
        {
          "name": "stdout",
          "output_type": "stream",
          "text": [
            "[<__main__.Student object at 0x10ec37440>, <__main__.Student object at 0x10ec36450>, <__main__.Student object at 0x10ec34830>]\n"
          ]
        }
      ],
      "source": [
        "students = []\n",
        "students.append(Student('a', 20, 'IMC', 'F'))\n",
        "students.append(Student('b', 21, 'AI', 'M'))\n",
        "students.append(Student('c', 20, 'bigdata', 'M'))\n",
        "print(students)"
      ]
    },
    {
      "cell_type": "code",
      "execution_count": 67,
      "metadata": {},
      "outputs": [
        {
          "name": "stdout",
          "output_type": "stream",
          "text": [
            "1\n",
            "이름: a, 나이: 20, 학과: IMC, 성별: F\n"
          ]
        }
      ],
      "source": [
        "a= 1\n",
        "print(a)\n",
        "print(students[0])"
      ]
    },
    {
      "cell_type": "code",
      "execution_count": 68,
      "metadata": {},
      "outputs": [
        {
          "name": "stdout",
          "output_type": "stream",
          "text": [
            "이름: a, 나이: 20, 학과: IMC, 성별: F\n",
            "이름: b, 나이: 21, 학과: AI, 성별: M\n",
            "이름: c, 나이: 20, 학과: bigdata, 성별: M\n"
          ]
        }
      ],
      "source": [
        "for s in students:\n",
        "    print(s)"
      ]
    },
    {
      "cell_type": "code",
      "execution_count": 58,
      "metadata": {},
      "outputs": [
        {
          "name": "stdout",
          "output_type": "stream",
          "text": [
            "이름:  a , 나이:  20 , 학과:  IMC , 성별:  F\n",
            "이름:  b , 나이:  21 , 학과:  AI , 성별:  M\n",
            "이름:  c , 나이:  20 , 학과:  bigdata , 성별:  M\n"
          ]
        }
      ],
      "source": [
        "for s in students:\n",
        "    print('이름: ', s.name, ', 나이: ', s.age, ', 학과: ', s.aff, ', 성별: ', s.gender)"
      ]
    },
    {
      "cell_type": "code",
      "execution_count": 59,
      "metadata": {},
      "outputs": [
        {
          "name": "stdout",
          "output_type": "stream",
          "text": [
            "이름:  a , 나이:  20 , 학과:  IMC , 성별:  F\n",
            "이름:  b , 나이:  21 , 학과:  AI , 성별:  M\n",
            "이름:  c , 나이:  20 , 학과:  bigdata , 성별:  M\n"
          ]
        }
      ],
      "source": [
        "for s in students:\n",
        "    s.print_info()"
      ]
    },
    {
      "cell_type": "code",
      "execution_count": 70,
      "metadata": {},
      "outputs": [],
      "source": [
        "for s in students:\n",
        "    s.add_age(1)"
      ]
    },
    {
      "cell_type": "code",
      "execution_count": 71,
      "metadata": {},
      "outputs": [
        {
          "name": "stdout",
          "output_type": "stream",
          "text": [
            "이름: a, 나이: 21, 학과: IMC, 성별: F\n",
            "이름: b, 나이: 22, 학과: AI, 성별: M\n",
            "이름: c, 나이: 21, 학과: bigdata, 성별: M\n"
          ]
        }
      ],
      "source": [
        "for s in students:\n",
        "    print(s)"
      ]
    },
    {
      "cell_type": "markdown",
      "metadata": {},
      "source": [
        "Numpy"
      ]
    },
    {
      "cell_type": "code",
      "execution_count": 73,
      "metadata": {},
      "outputs": [],
      "source": [
        "import numpy as np"
      ]
    },
    {
      "cell_type": "code",
      "execution_count": 80,
      "metadata": {},
      "outputs": [
        {
          "name": "stdout",
          "output_type": "stream",
          "text": [
            "<class 'numpy.ndarray'>\n",
            "[1. 2. 3.]\n"
          ]
        }
      ],
      "source": [
        "a = [1.0, 2.0, 3.0]\n",
        "x = np.array([1.0, 2.0, 3.0])\n",
        "print(type(x))\n",
        "print(x)"
      ]
    },
    {
      "cell_type": "code",
      "execution_count": 78,
      "metadata": {},
      "outputs": [
        {
          "name": "stdout",
          "output_type": "stream",
          "text": [
            "[4. 5. 6.]\n"
          ]
        }
      ],
      "source": [
        "b = [4.0, 5.0, 6.0]\n",
        "y = np.array([4.0, 5.0, 6.0])\n",
        "print(y)"
      ]
    },
    {
      "cell_type": "code",
      "execution_count": 81,
      "metadata": {},
      "outputs": [
        {
          "name": "stdout",
          "output_type": "stream",
          "text": [
            "[1.0, 2.0, 3.0, 4.0, 5.0, 6.0]\n",
            "[5. 7. 9.]\n"
          ]
        }
      ],
      "source": [
        "c = a + b\n",
        "print(c)\n",
        "z = x + y\n",
        "print(z)"
      ]
    },
    {
      "cell_type": "code",
      "execution_count": 82,
      "metadata": {},
      "outputs": [
        {
          "name": "stdout",
          "output_type": "stream",
          "text": [
            "[ 4. 10. 18.]\n"
          ]
        }
      ],
      "source": [
        "zm = x * y\n",
        "print(zm)"
      ]
    },
    {
      "cell_type": "code",
      "execution_count": 5,
      "metadata": {},
      "outputs": [
        {
          "name": "stdout",
          "output_type": "stream",
          "text": [
            "[[1 2 3]\n",
            " [4 5 6]\n",
            " [7 8 9]]\n",
            "(3, 3)\n"
          ]
        }
      ],
      "source": [
        "import numpy as np\n",
        "x33 = np.array([[1,2,3], [4,5,6], [7,8,9]])\n",
        "print(x33)\n",
        "print(x33.shape)"
      ]
    },
    {
      "cell_type": "code",
      "execution_count": 6,
      "metadata": {},
      "outputs": [
        {
          "name": "stdout",
          "output_type": "stream",
          "text": [
            "[[ 1  2  3  4]\n",
            " [ 5  6  7  8]\n",
            " [ 9 10 11 12]]\n",
            "(3, 4)\n"
          ]
        }
      ],
      "source": [
        "x34 = np.array([[1,2,3,4], [5,6,7,8], [9,10,11,12]])\n",
        "print(x34)\n",
        "print(x34.shape)"
      ]
    },
    {
      "cell_type": "code",
      "execution_count": 7,
      "metadata": {},
      "outputs": [
        {
          "name": "stdout",
          "output_type": "stream",
          "text": [
            "[[[ 1  2  3  4]\n",
            "  [ 5  6  7  8]\n",
            "  [ 9 10 11 12]]\n",
            "\n",
            " [[13 14 15 16]\n",
            "  [17 18 19 20]\n",
            "  [21 22 23 24]]]\n",
            "(2, 3, 4)\n"
          ]
        }
      ],
      "source": [
        "x234 = np.array([[[1,2,3,4], [5,6,7,8], [9,10,11,12]], [[13,14,15,16],[17,18,19,20], [21,22,23,24]]])\n",
        "print(x234)\n",
        "print(x234.shape)"
      ]
    },
    {
      "cell_type": "code",
      "execution_count": 8,
      "metadata": {},
      "outputs": [
        {
          "name": "stdout",
          "output_type": "stream",
          "text": [
            "[[[[ 1  2  3  4]\n",
            "   [ 5  6  7  8]\n",
            "   [ 9 10 11 12]]\n",
            "\n",
            "  [[13 14 15 16]\n",
            "   [17 18 19 20]\n",
            "   [21 22 23 24]]]\n",
            "\n",
            "\n",
            " [[[ 1  2  3  4]\n",
            "   [ 5  6  7  8]\n",
            "   [ 9 10 11 12]]\n",
            "\n",
            "  [[13 14 15 16]\n",
            "   [17 18 19 20]\n",
            "   [21 22 23 24]]]]\n",
            "(2, 2, 3, 4)\n"
          ]
        }
      ],
      "source": [
        "x2234 = np.array([[[[1,2,3,4], [5,6,7,8], [9,10,11,12]], [[13,14,15,16],[17,18,19,20], [21,22,23,24]]], [[[1,2,3,4], [5,6,7,8], [9,10,11,12]], [[13,14,15,16],[17,18,19,20], [21,22,23,24]]]])\n",
        "print(x2234)\n",
        "print(x2234.shape)"
      ]
    },
    {
      "cell_type": "code",
      "execution_count": 11,
      "metadata": {},
      "outputs": [
        {
          "name": "stdout",
          "output_type": "stream",
          "text": [
            "21\n",
            "[[[[ 1  2  3  4]\n",
            "   [ 5  6  7  8]\n",
            "   [ 9 10 11 12]]\n",
            "\n",
            "  [[13 14 15 16]\n",
            "   [17 18 19 20]\n",
            "   [15 22 23 24]]]\n",
            "\n",
            "\n",
            " [[[ 1  2  3  4]\n",
            "   [ 5  6  7  8]\n",
            "   [ 9 10 11 12]]\n",
            "\n",
            "  [[13 14 15 16]\n",
            "   [17 18 19 20]\n",
            "   [21 22 23 24]]]]\n"
          ]
        }
      ],
      "source": [
        "print(x2234[0][1][2][0])\n",
        "x2234[0][1][2][0] = 15\n",
        "print(x2234)\n"
      ]
    },
    {
      "cell_type": "code",
      "execution_count": 12,
      "metadata": {},
      "outputs": [
        {
          "name": "stdout",
          "output_type": "stream",
          "text": [
            "[[[[ 2  4  6  8]\n",
            "   [10 12 14 16]\n",
            "   [18 20 22 24]]\n",
            "\n",
            "  [[26 28 30 32]\n",
            "   [34 36 38 40]\n",
            "   [30 44 46 48]]]\n",
            "\n",
            "\n",
            " [[[ 2  4  6  8]\n",
            "   [10 12 14 16]\n",
            "   [18 20 22 24]]\n",
            "\n",
            "  [[26 28 30 32]\n",
            "   [34 36 38 40]\n",
            "   [42 44 46 48]]]]\n",
            "(2, 2, 3, 4)\n"
          ]
        }
      ],
      "source": [
        "a = x2234 + x2234\n",
        "print(a)\n",
        "print(a.shape)"
      ]
    },
    {
      "cell_type": "code",
      "execution_count": 14,
      "metadata": {},
      "outputs": [
        {
          "name": "stdout",
          "output_type": "stream",
          "text": [
            "[[[[ -1  -2  -3  -4]\n",
            "   [ -5  -6  -7  -8]\n",
            "   [ -9 -10 -11 -12]]\n",
            "\n",
            "  [[-13 -14 -15 -16]\n",
            "   [-17 -18 -19 -20]\n",
            "   [-15 -22 -23 -24]]]\n",
            "\n",
            "\n",
            " [[[ -1  -2  -3  -4]\n",
            "   [ -5  -6  -7  -8]\n",
            "   [ -9 -10 -11 -12]]\n",
            "\n",
            "  [[-13 -14 -15 -16]\n",
            "   [-17 -18 -19 -20]\n",
            "   [-21 -22 -23 -24]]]]\n",
            "(2, 2, 3, 4)\n"
          ]
        }
      ],
      "source": [
        "b = x2234 - a\n",
        "print(b)\n",
        "print(b.shape)"
      ]
    },
    {
      "cell_type": "code",
      "execution_count": 5,
      "metadata": {},
      "outputs": [
        {
          "name": "stdout",
          "output_type": "stream",
          "text": [
            "[[2 4 6]\n",
            " [5 7 9]]\n"
          ]
        }
      ],
      "source": [
        "import numpy as np\n",
        "a = np.array([[1,2,3], [4,5,6]])\n",
        "b = np.array([1,2,3])\n",
        "print(a+b)"
      ]
    },
    {
      "cell_type": "code",
      "execution_count": 9,
      "metadata": {},
      "outputs": [
        {
          "name": "stdout",
          "output_type": "stream",
          "text": [
            "[1 2]\n",
            "(2,)\n"
          ]
        }
      ],
      "source": [
        "a = np.array([0,1,2,3])\n",
        "n1 = a[1:3]\n",
        "print(n1)\n",
        "print(n1.shape)"
      ]
    },
    {
      "cell_type": "code",
      "execution_count": 18,
      "metadata": {},
      "outputs": [
        {
          "name": "stdout",
          "output_type": "stream",
          "text": [
            "[2 3]\n",
            "[ 7 11]\n",
            "[[ 6  7]\n",
            " [10 11]]\n",
            "[1 2 3 4]\n",
            "[1 5 9]\n"
          ]
        }
      ],
      "source": [
        "x34 = np.array([[1,2,3,4], [5,6,7,8], [9,10,11,12]])\n",
        "print(x34[0,1:3])\n",
        "print(x34[1:3,2])\n",
        "print(x34[1:3,1:3])\n",
        "print(x34[0])\n",
        "print(x34[:,0])"
      ]
    },
    {
      "cell_type": "markdown",
      "metadata": {},
      "source": [
        "matplotlib"
      ]
    },
    {
      "cell_type": "code",
      "execution_count": 6,
      "metadata": {},
      "outputs": [
        {
          "data": {
            "image/png": "[encoded data removed]",
            "text/plain": [
              "<Figure size 640x480 with 1 Axes>"
            ]
          },
          "metadata": {},
          "output_type": "display_data"
        }
      ],
      "source": [
        "import numpy as np\n",
        "import matplotlib.pyplot as plt\n",
        "\n",
        "x = np.arange(0, 6, 0.1)\n",
        "y = np.cos(np.sin(x))\n",
        "plt.plot(x, y, '.')\n",
        "# plt.plot(x, y)\n",
        "plt.show()"
      ]
    }
  ],
  "metadata": {
    "colab": {
      "provenance": []
    },
    "kernelspec": {
      "display_name": "Python 3",
      "name": "python3"
    },
    "language_info": {
      "codemirror_mode": {
        "name": "ipython",
        "version": 3
      },
      "file_extension": ".py",
      "mimetype": "text/x-python",
      "name": "python",
      "nbconvert_exporter": "python",
      "pygments_lexer": "ipython3",
      "version": "3.10.14"
    }
  },
  "nbformat": 4,
  "nbformat_minor": 0
}
