{
 "cells": [
  {
   "cell_type": "markdown",
   "id": "331ef2ae",
   "metadata": {},
   "source": [
    "# NumPy를 이용한 KNN 구현"
   ]
  },
  {
   "cell_type": "markdown",
   "id": "5e986e6b",
   "metadata": {},
   "source": [
    "이 노트북에서는 NumPy를 사용하여 K-최근접 이웃(K-Nearest Neighbors, KNN) 알고리즘을 직접 구현하는 방법을 다룹니다. \n",
    "또한, 모델의 성능을 혼동 행렬로 평가하고 이를 히트맵으로 시각화할 것입니다.\n",
    "\n",
    "### 단계:\n",
    "1. Iris 데이터셋 불러오기\n",
    "2. 학습 및 테스트 데이터로 분할하기\n",
    "3. NumPy로 KNN 분류기 구현하기\n",
    "4. 혼동 행렬을 사용하여 모델 정확도 평가하기\n",
    "5. 혼동 행렬을 히트맵으로 시각화하기\n"
   ]
  },
  {
   "cell_type": "code",
   "execution_count": 1,
   "id": "aee230c8",
   "metadata": {},
   "outputs": [],
   "source": [
    "import numpy as np\n",
    "from collections import Counter\n",
    "from sklearn import datasets\n",
    "from sklearn.model_selection import train_test_split\n",
    "from sklearn.metrics import confusion_matrix, accuracy_score\n",
    "import matplotlib.pyplot as plt\n",
    "import seaborn as sns"
   ]
  },
  {
   "cell_type": "markdown",
   "id": "fc79bd6f",
   "metadata": {},
   "source": [
    "### 1. Iris 데이터셋 불러오기"
   ]
  },
  {
   "cell_type": "code",
   "execution_count": 9,
   "id": "d98e0e4a",
   "metadata": {},
   "outputs": [],
   "source": [
    "# Iris 데이터셋 로드\n",
    "iris = datasets.load_iris()"
   ]
  },
  {
   "cell_type": "code",
   "execution_count": 10,
   "id": "02076e5d",
   "metadata": {},
   "outputs": [],
   "source": [
    "x = iris.data  # 특징 데이터\n",
    "y = iris.target  # 클래스 레이블"
   ]
  },
  {
   "cell_type": "markdown",
   "id": "f6f0a23e",
   "metadata": {},
   "source": [
    "### 2. 데이터셋 분할"
   ]
  },
  {
   "cell_type": "code",
   "execution_count": 11,
   "id": "8889ead0",
   "metadata": {},
   "outputs": [],
   "source": [
    "# 데이터셋을 학습(80%)과 테스트(20%)로 분할\n",
    "x_train, x_test, y_train, y_test = train_test_split(x, y, test_size=0.2, random_state=4)"
   ]
  },
  {
   "cell_type": "markdown",
   "id": "0802e511",
   "metadata": {},
   "source": [
    "### 3. KNN 분류기 구현"
   ]
  },
  {
   "cell_type": "code",
   "execution_count": 20,
   "id": "dafdc7fe",
   "metadata": {},
   "outputs": [],
   "source": [
    "# KNN 클래스 정의\n",
    "class KNN:\n",
    "    def __init__(self, k=3):  # k의 기본값은 3으로 설정\n",
    "        self.k = k\n",
    "\n",
    "    def fit(self, x_train, y_train):\n",
    "        # 학습 데이터를 저장\n",
    "        self.x_train = x_train\n",
    "        self.y_train = y_train\n",
    "\n",
    "    def euclidean_distance(self, x1, x2):\n",
    "        # 두 벡터 사이의 유클리드 거리 계산\n",
    "        return np.sqrt(np.sum((x1 - x2) ** 2))\n",
    "\n",
    "    def predict(self, x_test):\n",
    "        # 테스트 데이터의 각 포인트에 대해 예측 수행\n",
    "        predictions = [self._predict(x) for x in x_test]\n",
    "        return np.array(predictions)\n",
    "\n",
    "    def _predict(self, a):\n",
    "        # 모든 학습 데이터와의 거리 계산\n",
    "        distances = [self.euclidean_distance(a, a_train) for a_train in self.x_train]\n",
    "        # 거리를 기준으로 정렬하고 가장 가까운 k개의 이웃 선택\n",
    "        k_indices = np.argsort(distances)[:self.k]\n",
    "        # 가장 가까운 k개의 이웃의 레이블 추출\n",
    "        k_nearest_labels = [self.y_train[i] for i in k_indices]\n",
    "        # 가장 흔한 클래스 레이블 반환\n",
    "        most_common = Counter(k_nearest_labels).most_common(1)\n",
    "        return most_common[0][0]"
   ]
  },
  {
   "cell_type": "markdown",
   "id": "6459fa2b",
   "metadata": {},
   "source": [
    "### 4. KNN 모델 학습"
   ]
  },
  {
   "cell_type": "code",
   "execution_count": null,
   "id": "f5ce60db",
   "metadata": {},
   "outputs": [],
   "source": [
    "# k=6으로 KNN 분류기 생성\n",
    "knn = KNN(k=6)"
   ]
  },
  {
   "cell_type": "code",
   "execution_count": 14,
   "id": "137e9519",
   "metadata": {},
   "outputs": [],
   "source": [
    "# 학습 데이터로 모델 학습\n",
    "knn.fit(x_train, y_train)"
   ]
  },
  {
   "cell_type": "markdown",
   "id": "7afa8f72",
   "metadata": {},
   "source": [
    "### 5. 예측 및 정확도 계산"
   ]
  },
  {
   "cell_type": "code",
   "execution_count": null,
   "id": "df6ef725",
   "metadata": {},
   "outputs": [],
   "source": [
    "# 테스트 데이터에 대한 예측 수행\n",
    "y_pred = knn.predict(x_test)"
   ]
  },
  {
   "cell_type": "code",
   "execution_count": null,
   "id": "7af0ee53",
   "metadata": {},
   "outputs": [],
   "source": [
    "# 혼동 행렬과 정확도 계산\n",
    "conf_matrix = confusion_matrix(y_test, y_pred)\n",
    "accuracy = accuracy_score(y_test, y_pred)"
   ]
  },
  {
   "cell_type": "code",
   "execution_count": 16,
   "id": "1607da38",
   "metadata": {},
   "outputs": [
    {
     "name": "stdout",
     "output_type": "stream",
     "text": [
      "Confusion Matrix:\n",
      "[[16  0  0]\n",
      " [ 0  4  1]\n",
      " [ 0  0  9]]\n",
      "0.9666666666666667\n"
     ]
    }
   ],
   "source": [
    "# 결과 출력\n",
    "print(\"Confusion Matrix:\")\n",
    "print(conf_matrix)\n",
    "print(accuracy)"
   ]
  },
  {
   "cell_type": "markdown",
   "id": "6de08d95",
   "metadata": {},
   "source": [
    "### 6. 혼동 행렬 시각화"
   ]
  },
  {
   "cell_type": "code",
   "execution_count": 25,
   "id": "476b9b4a",
   "metadata": {},
   "outputs": [
    {
     "data": {
      "image/png": "[encoded data removed]",
      "text/plain": [
       "<Figure size 800x600 with 2 Axes>"
      ]
     },
     "metadata": {},
     "output_type": "display_data"
    }
   ],
   "source": [
    "# seaborn의 heatmap을 사용하여 혼동 행렬 시각화\n",
    "plt.figure(figsize=(8, 6))\n",
    "sns.heatmap(conf_matrix, annot=True, cmap='Blues', fmt='d', \n",
    "            xticklabels=iris.target_names, yticklabels=iris.target_names)\n",
    "\n",
    "plt.xlabel('Predicted')\n",
    "plt.ylabel('Actual')\n",
    "plt.title('Confusion Matrix')\n",
    "plt.show()"
   ]
  }
 ],
 "metadata": {
  "kernelspec": {
   "display_name": "school_class",
   "language": "python",
   "name": "python3"
  },
  "language_info": {
   "codemirror_mode": {
    "name": "ipython",
    "version": 3
   },
   "file_extension": ".py",
   "mimetype": "text/x-python",
   "name": "python",
   "nbconvert_exporter": "python",
   "pygments_lexer": "ipython3",
   "version": "3.10.14"
  }
 },
 "nbformat": 4,
 "nbformat_minor": 5
}
